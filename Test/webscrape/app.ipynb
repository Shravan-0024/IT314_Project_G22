{
 "cells": [
  {
   "cell_type": "code",
   "execution_count": 1,
   "metadata": {},
   "outputs": [],
   "source": [
    "import requests\n",
    "from bs4 import BeautifulSoup\n"
   ]
  },
  {
   "cell_type": "code",
   "execution_count": 2,
   "metadata": {},
   "outputs": [],
   "source": [
    "\n",
    "# URL to scrape\n",
    "url = \"https://www.accuweather.com/en/in/gandhinagar/188134/weather-forecast/188134\"\n",
    "\n",
    "# Headers to mimic a browser request\n",
    "headers = {\n",
    "    \"User-Agent\": \"Mozilla/5.0 (Windows NT 10.0; Win64; x64) AppleWebKit/537.36 (KHTML, like Gecko) Chrome/118.0.0.0 Safari/537.36\",\n",
    "    \"Accept-Language\": \"en-US,en;q=0.9\",\n",
    "    \"Referer\": \"https://www.google.com/\"\n",
    "}\n",
    "\n",
    "# Send GET request\n",
    "response = requests.get(url, headers=headers)\n"
   ]
  },
  {
   "cell_type": "code",
   "execution_count": 5,
   "metadata": {},
   "outputs": [
    {
     "name": "stdout",
     "output_type": "stream",
     "text": [
      "{'day': 'Tonight', 'date': '12/5', 'high_temp': '15°', 'low_temp': 'Lo', 'condition': 'Considerable cloudiness', 'precipitation': '0%', 'icon': 'https://www.awxcdn.com/adc-assets/images/weathericons/38.svg'}\n",
      "--------------------------------------------------------------------------------------------------------------------------------------------------------------------------------------------------------\n",
      "{'day': 'Fri', 'date': '12/6', 'high_temp': '30°', 'low_temp': '13°', 'condition': 'Sun through high clouds', 'precipitation': '0%', 'icon': 'https://www.awxcdn.com/adc-assets/images/weathericons/4.svg'}\n",
      "--------------------------------------------------------------------------------------------------------------------------------------------------------------------------------------------------------\n",
      "{'day': 'Sat', 'date': '12/7', 'high_temp': '29°', 'low_temp': '12°', 'condition': 'Mostly sunny and pleasant', 'precipitation': '0%', 'icon': 'https://www.awxcdn.com/adc-assets/images/weathericons/2.svg'}\n",
      "--------------------------------------------------------------------------------------------------------------------------------------------------------------------------------------------------------\n",
      "{'day': 'Sun', 'date': '12/8', 'high_temp': '28°', 'low_temp': '10°', 'condition': 'Hazy sun', 'precipitation': '0%', 'icon': 'https://www.awxcdn.com/adc-assets/images/weathericons/5.svg'}\n",
      "--------------------------------------------------------------------------------------------------------------------------------------------------------------------------------------------------------\n",
      "{'day': 'Mon', 'date': '12/9', 'high_temp': '26°', 'low_temp': '9°', 'condition': 'Nice with plenty of sunshine', 'precipitation': '0%', 'icon': 'https://www.awxcdn.com/adc-assets/images/weathericons/1.svg'}\n",
      "--------------------------------------------------------------------------------------------------------------------------------------------------------------------------------------------------------\n",
      "{'day': 'Tue', 'date': '12/10', 'high_temp': '29°', 'low_temp': '13°', 'condition': 'Mostly sunny and pleasant', 'precipitation': '0%', 'icon': 'https://www.awxcdn.com/adc-assets/images/weathericons/2.svg'}\n",
      "--------------------------------------------------------------------------------------------------------------------------------------------------------------------------------------------------------\n",
      "{'day': 'Wed', 'date': '12/11', 'high_temp': '30°', 'low_temp': '9°', 'condition': 'Partly sunny', 'precipitation': '0%', 'icon': 'https://www.awxcdn.com/adc-assets/images/weathericons/3.svg'}\n",
      "--------------------------------------------------------------------------------------------------------------------------------------------------------------------------------------------------------\n",
      "{'day': 'Thu', 'date': '12/12', 'high_temp': '28°', 'low_temp': '12°', 'condition': 'Mostly sunny', 'precipitation': '0%', 'icon': 'https://www.awxcdn.com/adc-assets/images/weathericons/2.svg'}\n",
      "--------------------------------------------------------------------------------------------------------------------------------------------------------------------------------------------------------\n",
      "{'day': 'Fri', 'date': '12/13', 'high_temp': '27°', 'low_temp': '13°', 'condition': 'Plenty of sunshine', 'precipitation': '0%', 'icon': 'https://www.awxcdn.com/adc-assets/images/weathericons/1.svg'}\n",
      "--------------------------------------------------------------------------------------------------------------------------------------------------------------------------------------------------------\n",
      "{'day': 'Sat', 'date': '12/14', 'high_temp': '30°', 'low_temp': '14°', 'condition': 'Sunny', 'precipitation': '0%', 'icon': 'https://www.awxcdn.com/adc-assets/images/weathericons/1.svg'}\n",
      "--------------------------------------------------------------------------------------------------------------------------------------------------------------------------------------------------------\n"
     ]
    }
   ],
   "source": [
    "\n",
    "# Initialize empty list to hold forecast data\n",
    "forecast_data = []\n",
    "\n",
    "if response.status_code == 200:\n",
    "    soup = BeautifulSoup(response.content, 'html.parser')\n",
    "\n",
    "    # Find the container with the 10-day forecast\n",
    "    forecast_container = soup.find('div', class_='daily-list-body')\n",
    "    if forecast_container:\n",
    "        forecast_items = forecast_container.find_all('a', class_='daily-list-item')\n",
    "\n",
    "        # Loop through each day's forecast and extract details\n",
    "        for item in forecast_items:\n",
    "            day = item.find('p', class_='day').text.strip() if item.find('p', class_='day') else \"N/A\"\n",
    "            date = item.find('div', class_='date').find_all('p')[1].text.strip() if item.find('div', class_='date') else \"N/A\"\n",
    "            high_temp = item.find('span', class_='temp-hi').text.strip() if item.find('span', class_='temp-hi') else \"N/A\"\n",
    "            low_temp = item.find('span', class_='temp-lo').text.strip() if item.find('span', class_='temp-lo') else \"N/A\"\n",
    "            condition = item.find('div', class_='phrase').find('p', class_='no-wrap').text.strip() if item.find('div', class_='phrase') else \"N/A\"\n",
    "            precipitation = item.find('div', class_='precip').text.strip() if item.find('div', class_='precip') else \"N/A\"\n",
    "            icon = item.find('img')['src'] if item.find('img') else \"N/A\"\n",
    "\n",
    "            # Append extracted details to the forecast_data list\n",
    "            forecast_data.append({\n",
    "                \"day\": day,\n",
    "                \"date\": date,\n",
    "                \"high_temp\": high_temp,\n",
    "                \"low_temp\": low_temp,\n",
    "                \"condition\": condition,\n",
    "                \"precipitation\": precipitation,\n",
    "                \"icon\": icon\n",
    "            })\n",
    "\n",
    "    else:\n",
    "        print(\"Forecast container not found. The content might be dynamically loaded.\")\n",
    "else:\n",
    "    print(f\"Failed to retrieve the page. Status code: {response.status_code}\")\n",
    "\n",
    "# Example usage of data in template or JSON export\n",
    "for _ in forecast_data:\n",
    "    print(_)\n",
    "    print(\"-\"*200)\n"
   ]
  }
 ],
 "metadata": {
  "kernelspec": {
   "display_name": "Python 3",
   "language": "python",
   "name": "python3"
  },
  "language_info": {
   "codemirror_mode": {
    "name": "ipython",
    "version": 3
   },
   "file_extension": ".py",
   "mimetype": "text/x-python",
   "name": "python",
   "nbconvert_exporter": "python",
   "pygments_lexer": "ipython3",
   "version": "3.12.4"
  }
 },
 "nbformat": 4,
 "nbformat_minor": 2
}
