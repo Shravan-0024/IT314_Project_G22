{
 "cells": [
  {
   "cell_type": "code",
   "execution_count": null,
   "metadata": {},
   "outputs": [],
   "source": []
  },
  {
   "cell_type": "code",
   "execution_count": 3,
   "metadata": {},
   "outputs": [
    {
     "name": "stdout",
     "output_type": "stream",
     "text": [
      "Temperature: 34°C\n",
      "RealFeel: RealFeel®\n",
      "\t\t\t\t\t\t32° - as feels like temp\n",
      "Condition: Hazy sunshine\n",
      "RealFeel Shade: 32°\n",
      "Wind: N 12 km/h\n",
      "Wind Gusts: 19 km/h\n",
      "Air Quality: Unhealthy\n"
     ]
    }
   ],
   "source": [
    "import requests\n",
    "from bs4 import BeautifulSoup\n",
    "\n",
    "# URL of the webpage to scrape\n",
    "gandhinagar_url = \"https://www.accuweather.com/en/in/gandhinagar/188134/weather-forecast/188134\"\n",
    "surat_url = \"https://www.accuweather.com/en/in/surat/202441/weather-forecast/202441\"\n",
    "ahmedabad_url = \"https://www.accuweather.com/en/in/ahmedabad/202438/weather-forecast/202438\"\n",
    "vadodara_url = \"https://www.accuweather.com/en/in/ahmedabad/202449/weather-forecast/202449\"\n",
    "\n",
    "\n",
    "# Headers to mimic a browser visit\n",
    "headers = {\n",
    "    'User-Agent': 'Mozilla/5.0 (Windows NT 10.0; Win64; x64) AppleWebKit/537.36 (KHTML, like Gecko) Chrome/86.0.4240.111 Safari/537.36',\n",
    "    'Accept-Language': 'en-US,en;q=0.9',\n",
    "    'Accept-Encoding': 'gzip, deflate, br',\n",
    "    'Connection': 'keep-alive',\n",
    "}\n",
    "\n",
    "# Send a request to fetch the HTML content of the webpage\n",
    "response = requests.get(surat_url, headers=headers)\n",
    "if response.status_code == 200:\n",
    "    # Parse the HTML content using BeautifulSoup\n",
    "    soup = BeautifulSoup(response.text, 'html.parser')\n",
    "\n",
    "    # Dictionary to store scraped data\n",
    "    weather_data = {}\n",
    "\n",
    "    # Extract temperature\n",
    "    temp = soup.select_one('.temp-container .temp')\n",
    "    if temp:\n",
    "        weather_data['Temperature'] = temp.get_text(strip=True)\n",
    "\n",
    "    # Extract real feel temperature\n",
    "    real_feel = soup.select_one('.temp-container .real-feel')\n",
    "    if real_feel:\n",
    "        weather_data['RealFeel'] = real_feel.get_text(strip=True)\n",
    "\n",
    "    # Extract weather condition\n",
    "    condition = soup.select_one('.phrase')\n",
    "    if condition:\n",
    "        weather_data['Condition'] = condition.get_text(strip=True)\n",
    "\n",
    "    # Extract RealFeel Shade\n",
    "    realfeel_shade = soup.select_one('.details-container .detail:nth-of-type(1) .value')\n",
    "    if realfeel_shade:\n",
    "        weather_data['RealFeel Shade'] = realfeel_shade.get_text(strip=True)\n",
    "\n",
    "    # Extract wind details\n",
    "    wind = soup.select_one('.details-container .detail:nth-of-type(2) .value')\n",
    "    if wind:\n",
    "        weather_data['Wind'] = wind.get_text(strip=True)\n",
    "\n",
    "    # Extract wind gusts\n",
    "    wind_gusts = soup.select_one('.details-container .detail:nth-of-type(3) .value')\n",
    "    if wind_gusts:\n",
    "        weather_data['Wind Gusts'] = wind_gusts.get_text(strip=True)\n",
    "\n",
    "    # Extract air quality\n",
    "    air_quality = soup.select_one('.details-container .detail:nth-of-type(4) .value')\n",
    "    if air_quality:\n",
    "        weather_data['Air Quality'] = air_quality.get_text(strip=True)\n",
    "\n",
    "    # Formatting output as specified\n",
    "    print(f\"Temperature: {weather_data.get('Temperature', 'N/A')}\")\n",
    "    print(f\"RealFeel: {weather_data.get('RealFeel', 'N/A')} - as feels like temp\")\n",
    "    print(f\"Condition: {weather_data.get('Condition', 'N/A')}\")\n",
    "    print(f\"RealFeel Shade: {weather_data.get('RealFeel Shade', 'N/A')}\")\n",
    "    print(f\"Wind: {weather_data.get('Wind', 'N/A')}\")\n",
    "    print(f\"Wind Gusts: {weather_data.get('Wind Gusts', 'N/A')}\")\n",
    "    print(f\"Air Quality: {weather_data.get('Air Quality', 'N/A')}\")\n",
    "\n",
    "else:\n",
    "    print(\"Failed to retrieve data from the website\")\n"
   ]
  }
 ],
 "metadata": {
  "kernelspec": {
   "display_name": "Python 3",
   "language": "python",
   "name": "python3"
  },
  "language_info": {
   "codemirror_mode": {
    "name": "ipython",
    "version": 3
   },
   "file_extension": ".py",
   "mimetype": "text/x-python",
   "name": "python",
   "nbconvert_exporter": "python",
   "pygments_lexer": "ipython3",
   "version": "3.12.4"
  }
 },
 "nbformat": 4,
 "nbformat_minor": 2
}
